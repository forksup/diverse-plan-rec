{
 "cells": [
  {
   "cell_type": "code",
   "execution_count": 1,
   "outputs": [],
   "source": [
    "import pickle\n",
    "import os\n",
    "import pandas as pd\n",
    "from collections import defaultdict\n",
    "episodes = []\n",
    "directory = \"/mnt/watchandhelp/PycharmProjects/pddl-generators/blocksworld/data_4blocks/data-6blocks-4ops\"\n",
    "for filename in os.listdir(directory):\n",
    "    if \".soln\" in filename:\n",
    "\n",
    "        file = open(f\"{directory}/{filename}\", 'rb')\n",
    "        object_file = pickle.load(file)\n",
    "        # for key, value in object_file['solution'].items():\n",
    "        # object_file['solution'][key] = value\n",
    "        del object_file['solution'][0]\n",
    "        df2 = pd.DataFrame(object_file['solution'], index=list(range(len(object_file['solution']))),\n",
    "                           columns=['action'])\n",
    "        df1 = pd.DataFrame(object_file['trace'], index=list(range(len(object_file['trace']))))\n",
    "        episodes.append(pd.concat([df1, df2], axis=1))\n",
    "        if len(df2) == 0:\n",
    "            pass\n",
    "        if len(df2) != 0:\n",
    "            #frames[folder].append(pd.concat([df1, df2], axis=1))\n",
    "            pass\n",
    "        file.close()"
   ],
   "metadata": {
    "collapsed": false,
    "pycharm": {
     "name": "#%%\n"
    }
   }
  },
  {
   "cell_type": "code",
   "execution_count": 2,
   "outputs": [
    {
     "data": {
      "text/plain": "16436"
     },
     "execution_count": 2,
     "metadata": {},
     "output_type": "execute_result"
    }
   ],
   "source": [
    "len(episodes)"
   ],
   "metadata": {
    "collapsed": false,
    "pycharm": {
     "name": "#%%\n"
    }
   }
  },
  {
   "cell_type": "code",
   "execution_count": 3,
   "outputs": [
    {
     "data": {
      "text/plain": "  arm-empty on_b2 on_b1 clear_b1 on-table_b5 clear_b4 on-table_b3 on_b4 on_b6  \\\n0      True    b5    b6     True        True     True        True    b3    b2   \n1       NaN    b5   NaN      NaN        True     True        True    b3    b2   \n2      True    b5   NaN     True        True     True        True    b3    b2   \n3       NaN    b5   NaN     True        True      NaN        True   NaN    b2   \n4      True    b5   NaN      NaN        True     True        True    b1    b2   \n\n  clear_b6 holding_b1 on-table_b1 holding_b4 clear_b3 holding_b6 clear_b2  \\\n0      NaN        NaN         NaN        NaN      NaN        NaN      NaN   \n1     True       True         NaN        NaN      NaN        NaN      NaN   \n2     True        NaN        True        NaN      NaN        NaN      NaN   \n3     True        NaN        True       True     True        NaN      NaN   \n4     True        NaN        True        NaN     True        NaN      NaN   \n\n  on-table_b6 holding_b2 clear_b5           action  \n0         NaN        NaN      NaN  (unstack_b1_b6)  \n1         NaN        NaN      NaN     (putdown_b1)  \n2         NaN        NaN      NaN  (unstack_b4_b3)  \n3         NaN        NaN      NaN    (stack_b4_b1)  \n4         NaN        NaN      NaN  (unstack_b6_b2)  ",
      "text/html": "<div>\n<style scoped>\n    .dataframe tbody tr th:only-of-type {\n        vertical-align: middle;\n    }\n\n    .dataframe tbody tr th {\n        vertical-align: top;\n    }\n\n    .dataframe thead th {\n        text-align: right;\n    }\n</style>\n<table border=\"1\" class=\"dataframe\">\n  <thead>\n    <tr style=\"text-align: right;\">\n      <th></th>\n      <th>arm-empty</th>\n      <th>on_b2</th>\n      <th>on_b1</th>\n      <th>clear_b1</th>\n      <th>on-table_b5</th>\n      <th>clear_b4</th>\n      <th>on-table_b3</th>\n      <th>on_b4</th>\n      <th>on_b6</th>\n      <th>clear_b6</th>\n      <th>holding_b1</th>\n      <th>on-table_b1</th>\n      <th>holding_b4</th>\n      <th>clear_b3</th>\n      <th>holding_b6</th>\n      <th>clear_b2</th>\n      <th>on-table_b6</th>\n      <th>holding_b2</th>\n      <th>clear_b5</th>\n      <th>action</th>\n    </tr>\n  </thead>\n  <tbody>\n    <tr>\n      <th>0</th>\n      <td>True</td>\n      <td>b5</td>\n      <td>b6</td>\n      <td>True</td>\n      <td>True</td>\n      <td>True</td>\n      <td>True</td>\n      <td>b3</td>\n      <td>b2</td>\n      <td>NaN</td>\n      <td>NaN</td>\n      <td>NaN</td>\n      <td>NaN</td>\n      <td>NaN</td>\n      <td>NaN</td>\n      <td>NaN</td>\n      <td>NaN</td>\n      <td>NaN</td>\n      <td>NaN</td>\n      <td>(unstack_b1_b6)</td>\n    </tr>\n    <tr>\n      <th>1</th>\n      <td>NaN</td>\n      <td>b5</td>\n      <td>NaN</td>\n      <td>NaN</td>\n      <td>True</td>\n      <td>True</td>\n      <td>True</td>\n      <td>b3</td>\n      <td>b2</td>\n      <td>True</td>\n      <td>True</td>\n      <td>NaN</td>\n      <td>NaN</td>\n      <td>NaN</td>\n      <td>NaN</td>\n      <td>NaN</td>\n      <td>NaN</td>\n      <td>NaN</td>\n      <td>NaN</td>\n      <td>(putdown_b1)</td>\n    </tr>\n    <tr>\n      <th>2</th>\n      <td>True</td>\n      <td>b5</td>\n      <td>NaN</td>\n      <td>True</td>\n      <td>True</td>\n      <td>True</td>\n      <td>True</td>\n      <td>b3</td>\n      <td>b2</td>\n      <td>True</td>\n      <td>NaN</td>\n      <td>True</td>\n      <td>NaN</td>\n      <td>NaN</td>\n      <td>NaN</td>\n      <td>NaN</td>\n      <td>NaN</td>\n      <td>NaN</td>\n      <td>NaN</td>\n      <td>(unstack_b4_b3)</td>\n    </tr>\n    <tr>\n      <th>3</th>\n      <td>NaN</td>\n      <td>b5</td>\n      <td>NaN</td>\n      <td>True</td>\n      <td>True</td>\n      <td>NaN</td>\n      <td>True</td>\n      <td>NaN</td>\n      <td>b2</td>\n      <td>True</td>\n      <td>NaN</td>\n      <td>True</td>\n      <td>True</td>\n      <td>True</td>\n      <td>NaN</td>\n      <td>NaN</td>\n      <td>NaN</td>\n      <td>NaN</td>\n      <td>NaN</td>\n      <td>(stack_b4_b1)</td>\n    </tr>\n    <tr>\n      <th>4</th>\n      <td>True</td>\n      <td>b5</td>\n      <td>NaN</td>\n      <td>NaN</td>\n      <td>True</td>\n      <td>True</td>\n      <td>True</td>\n      <td>b1</td>\n      <td>b2</td>\n      <td>True</td>\n      <td>NaN</td>\n      <td>True</td>\n      <td>NaN</td>\n      <td>True</td>\n      <td>NaN</td>\n      <td>NaN</td>\n      <td>NaN</td>\n      <td>NaN</td>\n      <td>NaN</td>\n      <td>(unstack_b6_b2)</td>\n    </tr>\n  </tbody>\n</table>\n</div>"
     },
     "execution_count": 3,
     "metadata": {},
     "output_type": "execute_result"
    }
   ],
   "source": [
    "episodes[0].head(5)"
   ],
   "metadata": {
    "collapsed": false,
    "pycharm": {
     "name": "#%%\n"
    }
   }
  },
  {
   "cell_type": "code",
   "execution_count": 11,
   "outputs": [],
   "source": [
    "state_index = {}\n",
    "state_count = 0\n",
    "episodes = episodes[0:250]\n",
    "for e in episodes:\n",
    "    for i, r in e.iterrows():\n",
    "        tuple_proc = tuple(r)\n",
    "        if not tuple_proc in state_index:\n",
    "            state_index[tuple_proc] = state_count\n",
    "        state_count += 1\n"
   ],
   "metadata": {
    "collapsed": false,
    "pycharm": {
     "name": "#%%\n"
    }
   }
  },
  {
   "cell_type": "code",
   "execution_count": null,
   "outputs": [],
   "source": [
    "import pickle"
   ],
   "metadata": {
    "collapsed": false,
    "pycharm": {
     "name": "#%%\n"
    }
   }
  },
  {
   "cell_type": "code",
   "execution_count": 13,
   "outputs": [],
   "source": [
    "with open('blocksworld6blocks.pkl', 'wb') as f:\n",
    "    pickle.dump(episodes, f)\n"
   ],
   "metadata": {
    "collapsed": false,
    "pycharm": {
     "name": "#%%\n"
    }
   }
  },
  {
   "cell_type": "code",
   "execution_count": null,
   "outputs": [],
   "source": [
    "Python 3.4.1 (default, May 21 2014, 12:39:51)\n",
    "[GCC 4.2.1 Compatible Apple LLVM 5.0 (clang-500.2.79)] on darwin\n",
    "Type \"help\", \"copyright\", \"credits\" or \"license\" for more information.\n",
    ">>> import pickle\n",
    ">>> with open('parrot.pkl', 'rb') as f:\n",
    "...   mynewlist = pickle.load(f)\n",
    "...\n",
    ">>> mynewlist\n",
    "['I wish to complain about this parrot what I purchased not half an hour ago from this very boutique.', \"Oh yes, the, uh, the Norwegian Blue...What's,uh...What's wrong with it?\", \"I'll tell you what's wrong with it, my lad. 'E's dead, that's what's wrong with it!\", \"No, no, 'e's uh,...he's resting.\"]\n",
    ">>>\n"
   ],
   "metadata": {
    "collapsed": false,
    "pycharm": {
     "name": "#%%\n"
    }
   }
  },
  {
   "cell_type": "code",
   "execution_count": 12,
   "outputs": [
    {
     "data": {
      "text/plain": "3401"
     },
     "execution_count": 12,
     "metadata": {},
     "output_type": "execute_result"
    }
   ],
   "source": [
    "max(state_index.values())"
   ],
   "metadata": {
    "collapsed": false,
    "pycharm": {
     "name": "#%%\n"
    }
   }
  },
  {
   "cell_type": "code",
   "execution_count": 6,
   "outputs": [
    {
     "data": {
      "text/plain": "  on-table_b1 on_b7 clear_b2 on-table_b4 on_b2 on_b6 clear_b6 on_b8 on_b5  \\\n0        True    b1     True        True    b8    b5     True    b3    b7   \n1        True    b1     True        True    b8   NaN      NaN    b3    b7   \n2        True    b1     True        True    b8   NaN     True    b3    b7   \n3        True    b1     True        True    b8   NaN     True    b3   NaN   \n4        True    b1     True        True    b8   NaN     True    b3   NaN   \n\n  on_b3  ... on-table_b8 holding_b3 clear_b4 on-table_b3 holding_b4 on_b4  \\\n0    b4  ...         NaN        NaN      NaN         NaN        NaN   NaN   \n1    b4  ...         NaN        NaN      NaN         NaN        NaN   NaN   \n2    b4  ...         NaN        NaN      NaN         NaN        NaN   NaN   \n3    b4  ...         NaN        NaN      NaN         NaN        NaN   NaN   \n4    b4  ...         NaN        NaN      NaN         NaN        NaN   NaN   \n\n  holding_b7 clear_b1 on-table_b7           action  \n0        NaN      NaN         NaN  (unstack_b6_b5)  \n1        NaN      NaN         NaN     (putdown_b6)  \n2        NaN      NaN         NaN  (unstack_b5_b7)  \n3        NaN      NaN         NaN     (putdown_b5)  \n4        NaN      NaN         NaN  (unstack_b2_b8)  \n\n[5 rows x 32 columns]",
      "text/html": "<div>\n<style scoped>\n    .dataframe tbody tr th:only-of-type {\n        vertical-align: middle;\n    }\n\n    .dataframe tbody tr th {\n        vertical-align: top;\n    }\n\n    .dataframe thead th {\n        text-align: right;\n    }\n</style>\n<table border=\"1\" class=\"dataframe\">\n  <thead>\n    <tr style=\"text-align: right;\">\n      <th></th>\n      <th>on-table_b1</th>\n      <th>on_b7</th>\n      <th>clear_b2</th>\n      <th>on-table_b4</th>\n      <th>on_b2</th>\n      <th>on_b6</th>\n      <th>clear_b6</th>\n      <th>on_b8</th>\n      <th>on_b5</th>\n      <th>on_b3</th>\n      <th>...</th>\n      <th>on-table_b8</th>\n      <th>holding_b3</th>\n      <th>clear_b4</th>\n      <th>on-table_b3</th>\n      <th>holding_b4</th>\n      <th>on_b4</th>\n      <th>holding_b7</th>\n      <th>clear_b1</th>\n      <th>on-table_b7</th>\n      <th>action</th>\n    </tr>\n  </thead>\n  <tbody>\n    <tr>\n      <th>0</th>\n      <td>True</td>\n      <td>b1</td>\n      <td>True</td>\n      <td>True</td>\n      <td>b8</td>\n      <td>b5</td>\n      <td>True</td>\n      <td>b3</td>\n      <td>b7</td>\n      <td>b4</td>\n      <td>...</td>\n      <td>NaN</td>\n      <td>NaN</td>\n      <td>NaN</td>\n      <td>NaN</td>\n      <td>NaN</td>\n      <td>NaN</td>\n      <td>NaN</td>\n      <td>NaN</td>\n      <td>NaN</td>\n      <td>(unstack_b6_b5)</td>\n    </tr>\n    <tr>\n      <th>1</th>\n      <td>True</td>\n      <td>b1</td>\n      <td>True</td>\n      <td>True</td>\n      <td>b8</td>\n      <td>NaN</td>\n      <td>NaN</td>\n      <td>b3</td>\n      <td>b7</td>\n      <td>b4</td>\n      <td>...</td>\n      <td>NaN</td>\n      <td>NaN</td>\n      <td>NaN</td>\n      <td>NaN</td>\n      <td>NaN</td>\n      <td>NaN</td>\n      <td>NaN</td>\n      <td>NaN</td>\n      <td>NaN</td>\n      <td>(putdown_b6)</td>\n    </tr>\n    <tr>\n      <th>2</th>\n      <td>True</td>\n      <td>b1</td>\n      <td>True</td>\n      <td>True</td>\n      <td>b8</td>\n      <td>NaN</td>\n      <td>True</td>\n      <td>b3</td>\n      <td>b7</td>\n      <td>b4</td>\n      <td>...</td>\n      <td>NaN</td>\n      <td>NaN</td>\n      <td>NaN</td>\n      <td>NaN</td>\n      <td>NaN</td>\n      <td>NaN</td>\n      <td>NaN</td>\n      <td>NaN</td>\n      <td>NaN</td>\n      <td>(unstack_b5_b7)</td>\n    </tr>\n    <tr>\n      <th>3</th>\n      <td>True</td>\n      <td>b1</td>\n      <td>True</td>\n      <td>True</td>\n      <td>b8</td>\n      <td>NaN</td>\n      <td>True</td>\n      <td>b3</td>\n      <td>NaN</td>\n      <td>b4</td>\n      <td>...</td>\n      <td>NaN</td>\n      <td>NaN</td>\n      <td>NaN</td>\n      <td>NaN</td>\n      <td>NaN</td>\n      <td>NaN</td>\n      <td>NaN</td>\n      <td>NaN</td>\n      <td>NaN</td>\n      <td>(putdown_b5)</td>\n    </tr>\n    <tr>\n      <th>4</th>\n      <td>True</td>\n      <td>b1</td>\n      <td>True</td>\n      <td>True</td>\n      <td>b8</td>\n      <td>NaN</td>\n      <td>True</td>\n      <td>b3</td>\n      <td>NaN</td>\n      <td>b4</td>\n      <td>...</td>\n      <td>NaN</td>\n      <td>NaN</td>\n      <td>NaN</td>\n      <td>NaN</td>\n      <td>NaN</td>\n      <td>NaN</td>\n      <td>NaN</td>\n      <td>NaN</td>\n      <td>NaN</td>\n      <td>(unstack_b2_b8)</td>\n    </tr>\n  </tbody>\n</table>\n<p>5 rows × 32 columns</p>\n</div>"
     },
     "execution_count": 6,
     "metadata": {},
     "output_type": "execute_result"
    }
   ],
   "source": [
    "episodes[0].head(5)"
   ],
   "metadata": {
    "collapsed": false,
    "pycharm": {
     "name": "#%%\n"
    }
   }
  },
  {
   "cell_type": "code",
   "execution_count": null,
   "outputs": [],
   "source": [],
   "metadata": {
    "collapsed": false,
    "pycharm": {
     "name": "#%%\n"
    }
   }
  }
 ],
 "metadata": {
  "kernelspec": {
   "display_name": "Python 3",
   "language": "python",
   "name": "python3"
  },
  "language_info": {
   "codemirror_mode": {
    "name": "ipython",
    "version": 2
   },
   "file_extension": ".py",
   "mimetype": "text/x-python",
   "name": "python",
   "nbconvert_exporter": "python",
   "pygments_lexer": "ipython2",
   "version": "2.7.6"
  }
 },
 "nbformat": 4,
 "nbformat_minor": 0
}